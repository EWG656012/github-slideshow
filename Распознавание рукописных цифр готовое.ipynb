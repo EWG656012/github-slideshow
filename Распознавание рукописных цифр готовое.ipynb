{
  "nbformat": 4,
  "nbformat_minor": 0,
  "metadata": {
    "colab": {
      "name": "Untitled32.ipynb",
      "provenance": [],
      "authorship_tag": "ABX9TyP+f3tMgWxe4+m9ZZ4DMBSf",
      "include_colab_link": true
    },
    "kernelspec": {
      "name": "python3",
      "display_name": "Python 3"
    },
    "language_info": {
      "name": "python"
    }
  },
  "cells": [
    {
      "cell_type": "markdown",
      "metadata": {
        "id": "view-in-github",
        "colab_type": "text"
      },
      "source": [
        "<a href=\"https://colab.research.google.com/github/EWG656012/github-slideshow/blob/master/%D0%A0%D0%B0%D1%81%D0%BF%D0%BE%D0%B7%D0%BD%D0%B0%D0%B2%D0%B0%D0%BD%D0%B8%D0%B5%20%D1%80%D1%83%D0%BA%D0%BE%D0%BF%D0%B8%D1%81%D0%BD%D1%8B%D1%85%20%D1%86%D0%B8%D1%84%D1%80%20%D0%B3%D0%BE%D1%82%D0%BE%D0%B2%D0%BE%D0%B5.ipynb\" target=\"_parent\"><img src=\"https://colab.research.google.com/assets/colab-badge.svg\" alt=\"Open In Colab\"/></a>"
      ]
    },
    {
      "cell_type": "code",
      "execution_count": 16,
      "metadata": {
        "id": "wIwBI9voxCXn"
      },
      "outputs": [],
      "source": [
        "from tensorflow.keras.datasets import mnist #Библиотека с базой Mnist\n",
        "from tensorflow.keras.models import Sequential # Подлючаем класс создания модели Sequential\n",
        "from tensorflow.keras.layers import Dense # Подключаем класс Dense - полносвязный слой\n",
        "from tensorflow.keras.optimizers import Adam # Подключаем оптимизатор Adam\n",
        "from tensorflow.keras import utils #Утилиты для to_categorical\n",
        "from tensorflow.keras.preprocessing import image #Для отрисовки изображения\n",
        "import numpy as np # Подключаем библиотеку numpy\n",
        "import pylab # Модуль для построения графиков\n",
        "from mpl_toolkits.mplot3d import Axes3D # Модуль для трехмерной графики\n",
        "from google.colab import files #Для загрузки своей картинки\n",
        "import matplotlib.pyplot as plt #Отрисовка изображений\n",
        "from PIL import Image #Отрисовка изображений\n",
        "#Отрисовывать изображения в ноутбуке, а не в консоль или файл\n",
        "%matplotlib inline "
      ]
    },
    {
      "cell_type": "code",
      "source": [
        "(x_train_org, y_train_org), (x_test_org, y_test_org) = mnist.load_data() #Загрузка данных Mnist"
      ],
      "metadata": {
        "colab": {
          "base_uri": "https://localhost:8080/"
        },
        "id": "j8Wb9F-KxKnS",
        "outputId": "492837d7-8920-4214-ffb3-b330d8a61666"
      },
      "execution_count": 17,
      "outputs": [
        {
          "output_type": "stream",
          "name": "stdout",
          "text": [
            "Downloading data from https://storage.googleapis.com/tensorflow/tf-keras-datasets/mnist.npz\n",
            "11493376/11490434 [==============================] - 0s 0us/step\n",
            "11501568/11490434 [==============================] - 0s 0us/step\n"
          ]
        }
      ]
    },
    {
      "cell_type": "code",
      "source": [
        "n = 253\n",
        "print(x_train_org.shape)\n",
        "print(x_train_org[n])"
      ],
      "metadata": {
        "colab": {
          "base_uri": "https://localhost:8080/"
        },
        "id": "RhlMbTemxO9w",
        "outputId": "f2801ef6-dc2d-478a-9cee-4d85f8437aa0"
      },
      "execution_count": 18,
      "outputs": [
        {
          "output_type": "stream",
          "name": "stdout",
          "text": [
            "(60000, 28, 28)\n",
            "[[  0   0   0   0   0   0   0   0   0   0   0   0   0   0   0   0   0   0\n",
            "    0   0   0   0   0   0   0   0   0   0]\n",
            " [  0   0   0   0   0   0   0   0   0   0   0   0   0   0   0   0   0   0\n",
            "    0   0   0   0   0   0   0   0   0   0]\n",
            " [  0   0   0   0   0   0   0   0   0   0   0   0   0   0   0   0   0   0\n",
            "    0   0   0   0   0   0   0   0   0   0]\n",
            " [  0   0   0   0   0   0   0   0   0   0   0   0   0  96  96  96  96  96\n",
            "   96  24   0   0   0   0   0   0   0   0]\n",
            " [  0   0   0   0   0   0   0   0   0   0   0  68 190 253 251 251 251 251\n",
            "  253 205 111   4   0   0   0   0   0   0]\n",
            " [  0   0   0   0   0   0   0   0  48 111  64 236 251 253 251 251 172 251\n",
            "  253 251 251 110   0   0   0   0   0   0]\n",
            " [  0   0   0   0   0   0   0   0  96 248 236 251 251 189 168  31  12  31\n",
            "   91 236 251 244  83   0   0   0   0   0]\n",
            " [  0   0   0   0   0   0   0   0  36 114 172  94  94   0   0   0   0   0\n",
            "    0  91 251 251 193   0   0   0   0   0]\n",
            " [  0   0   0   0   0   0   0   0   0   0   0   0   0   0   0   0   0   0\n",
            "    0  32 253 253 253   0   0   0   0   0]\n",
            " [  0   0   0   0   0   0   0   0   0   0   0   0   0   0   0   0   0   0\n",
            "    0  52 251 251 251   0   0   0   0   0]\n",
            " [  0   0   0   0   0   0   0   0   0   0   0   0   0   0   0   0   0   0\n",
            "    0 190 251 251 251   0   0   0   0   0]\n",
            " [  0   0   0   0   0   0   0   0   0   0   0   0   0   0   0   0   0   0\n",
            "    0 190 251 251 211   0   0   0   0   0]\n",
            " [  0   0   0   0   0   0   0   0   0   0   0   0   0   0   0   0   0   0\n",
            "   60 228 251 251  94   0   0   0   0   0]\n",
            " [  0   0   0   0   0   0   0   0   0  72  48  84  96  96  24   0   0  60\n",
            "  255 253 253 189   0   0   0   0   0   0]\n",
            " [  0   0   0   0   0   0   8  32 191 236 220 244 251 253 205  95   8 170\n",
            "  253 251 251  69   0   0   0   0   0   0]\n",
            " [  0   0   0   0  16 127 158 251 253 251 251 251 251 253 251 188 158 251\n",
            "  253 251 188  15   0   0   0   0   0   0]\n",
            " [  0   0   0   0 171 251 251 211 189  69  31  31  31 213 251 251 251 251\n",
            "  253  85  15   0   0   0   0   0   0   0]\n",
            " [  0   0   0  60 228 251 211  35   0   0   0   0   0 194 251 251 251 251\n",
            "  253  62   0   0   0   0   0   0   0   0]\n",
            " [  0   0   0 155 253 253  31   0   0  12  96  96 194 255 253 253 253 253\n",
            "  255  63   0   0   0   0   0   0   0   0]\n",
            " [  0   0   0 253 251 251 197 190 191 197 251 251 251 253 247 236 251 251\n",
            "  253  62   0   0   0   0   0   0   0   0]\n",
            " [  0   0   0 253 251 251 251 251 253 251 251 251 251 205 110  63 156 251\n",
            "  205  31   0   0   0   0   0   0   0   0]\n",
            " [  0   0   0  91 188 220 251 251 253 243 188 148  31  19   0   0   8  31\n",
            "   19   0   0   0   0   0   0   0   0   0]\n",
            " [  0   0   0   0   0  48  94  94  95  82   0   0   0   0   0   0   0   0\n",
            "    0   0   0   0   0   0   0   0   0   0]\n",
            " [  0   0   0   0   0   0   0   0   0   0   0   0   0   0   0   0   0   0\n",
            "    0   0   0   0   0   0   0   0   0   0]\n",
            " [  0   0   0   0   0   0   0   0   0   0   0   0   0   0   0   0   0   0\n",
            "    0   0   0   0   0   0   0   0   0   0]\n",
            " [  0   0   0   0   0   0   0   0   0   0   0   0   0   0   0   0   0   0\n",
            "    0   0   0   0   0   0   0   0   0   0]\n",
            " [  0   0   0   0   0   0   0   0   0   0   0   0   0   0   0   0   0   0\n",
            "    0   0   0   0   0   0   0   0   0   0]\n",
            " [  0   0   0   0   0   0   0   0   0   0   0   0   0   0   0   0   0   0\n",
            "    0   0   0   0   0   0   0   0   0   0]]\n"
          ]
        }
      ]
    },
    {
      "cell_type": "code",
      "source": [
        "plt.imshow(Image.fromarray(x_train_org[n]).convert('RGB')) #Отрисовка картинки\n",
        "plt.show() # Вывод картинки"
      ],
      "metadata": {
        "colab": {
          "base_uri": "https://localhost:8080/",
          "height": 265
        },
        "id": "2g_pCDF2xjR1",
        "outputId": "ffc00d74-4ff7-4324-815f-20bc2e59a79a"
      },
      "execution_count": 19,
      "outputs": [
        {
          "output_type": "display_data",
          "data": {
            "image/png": "[encoded data removed]",
            "text/plain": [
              "<Figure size 432x288 with 1 Axes>"
            ]
          },
          "metadata": {
            "needs_background": "light"
          }
        }
      ]
    },
    {
      "cell_type": "code",
      "source": [
        "x_train = x_train_org.reshape(60000, 784)\n",
        "x_test = x_test_org.reshape(10000, 784)"
      ],
      "metadata": {
        "id": "KG4Ej5LLx0d2"
      },
      "execution_count": 20,
      "outputs": []
    },
    {
      "cell_type": "code",
      "source": [
        "#Нормализуем входные картинки\n",
        "x_train = x_train.astype('float32') # преобразовываем x_train в тип float (цифры с плавающей точкой)\n",
        "x_train = x_train / 255 # делим на 255, чтобы диапазон был от 0 до 1\n",
        "x_test = x_test.astype('float32') # преобразовываем x_test в тип float (цифры с плавающей точкой)\n",
        "x_test = x_test / 255 # делим на 255, чтобы диапазон был от 0 до 1"
      ],
      "metadata": {
        "id": "zJPM-YmCx4Tn"
      },
      "execution_count": 21,
      "outputs": []
    },
    {
      "cell_type": "code",
      "source": [
        "# Преобразуем ответы в формат one_hot_encoding\n",
        "y_train = utils.to_categorical(y_train_org, 10)\n",
        "y_test = utils.to_categorical(y_test_org, 10)"
      ],
      "metadata": {
        "id": "qAbceXZsx9rb"
      },
      "execution_count": 22,
      "outputs": []
    },
    {
      "cell_type": "code",
      "source": [
        "print(y_train[n]) #Выводим пример одного выходного вектора"
      ],
      "metadata": {
        "colab": {
          "base_uri": "https://localhost:8080/"
        },
        "id": "XA5dmkFMyEvM",
        "outputId": "4f89bdb0-8d66-47eb-e4fe-aee92b6cf5a3"
      },
      "execution_count": 23,
      "outputs": [
        {
          "output_type": "stream",
          "name": "stdout",
          "text": [
            "[0. 0. 1. 0. 0. 0. 0. 0. 0. 0.]\n"
          ]
        }
      ]
    },
    {
      "cell_type": "code",
      "source": [
        "model = Sequential() # Создаём сеть прямого распространения\n",
        "model.add(Dense(800, input_dim=784, activation=\"relu\")) # Добавляем полносвязный слой на 800 нейронов с relu-активацией\n",
        "model.add(Dense(400, activation=\"relu\")) # Добавляем полносвязный слой на 400 нейронов с relu-активацией\n",
        "model.add(Dense(10, activation=\"softmax\")) # Добавляем полносвязный слой на 10 нейронов с softmax-активацией"
      ],
      "metadata": {
        "id": "d2jvtZ3-ya4v"
      },
      "execution_count": 24,
      "outputs": []
    },
    {
      "cell_type": "code",
      "source": [
        "model.compile(optimizer=Adam(), loss='categorical_crossentropy') # Компилируем модель\n",
        "print(model.summary()) #Вывод структуры модели\n"
      ],
      "metadata": {
        "colab": {
          "base_uri": "https://localhost:8080/"
        },
        "id": "FsFqvIRiyeaQ",
        "outputId": "f7a471ec-e843-4dd1-f1a7-79f3059d14d0"
      },
      "execution_count": 25,
      "outputs": [
        {
          "output_type": "stream",
          "name": "stdout",
          "text": [
            "Model: \"sequential\"\n",
            "_________________________________________________________________\n",
            " Layer (type)                Output Shape              Param #   \n",
            "=================================================================\n",
            " dense (Dense)               (None, 800)               628000    \n",
            "                                                                 \n",
            " dense_1 (Dense)             (None, 400)               320400    \n",
            "                                                                 \n",
            " dense_2 (Dense)             (None, 10)                4010      \n",
            "                                                                 \n",
            "=================================================================\n",
            "Total params: 952,410\n",
            "Trainable params: 952,410\n",
            "Non-trainable params: 0\n",
            "_________________________________________________________________\n",
            "None\n"
          ]
        }
      ]
    },
    {
      "cell_type": "code",
      "source": [
        "model.fit(x_train, y_train, batch_size=128, epochs=15, verbose=1)"
      ],
      "metadata": {
        "colab": {
          "base_uri": "https://localhost:8080/"
        },
        "id": "isO3pEJm0NFZ",
        "outputId": "e4134bea-238d-4417-ae5a-204e18ffb2e6"
      },
      "execution_count": 26,
      "outputs": [
        {
          "output_type": "stream",
          "name": "stdout",
          "text": [
            "Epoch 1/15\n",
            "469/469 [==============================] - 9s 19ms/step - loss: 0.2055\n",
            "Epoch 2/15\n",
            "469/469 [==============================] - 9s 19ms/step - loss: 0.0754\n",
            "Epoch 3/15\n",
            "469/469 [==============================] - 9s 19ms/step - loss: 0.0465\n",
            "Epoch 4/15\n",
            "469/469 [==============================] - 13s 28ms/step - loss: 0.0342\n",
            "Epoch 5/15\n",
            "469/469 [==============================] - 16s 35ms/step - loss: 0.0267\n",
            "Epoch 6/15\n",
            "469/469 [==============================] - 14s 29ms/step - loss: 0.0210\n",
            "Epoch 7/15\n",
            "469/469 [==============================] - 8s 18ms/step - loss: 0.0182\n",
            "Epoch 8/15\n",
            "469/469 [==============================] - 9s 18ms/step - loss: 0.0164\n",
            "Epoch 9/15\n",
            "469/469 [==============================] - 9s 19ms/step - loss: 0.0145\n",
            "Epoch 10/15\n",
            "469/469 [==============================] - 9s 19ms/step - loss: 0.0116\n",
            "Epoch 11/15\n",
            "469/469 [==============================] - 9s 18ms/step - loss: 0.0160\n",
            "Epoch 12/15\n",
            "469/469 [==============================] - 9s 18ms/step - loss: 0.0132\n",
            "Epoch 13/15\n",
            "469/469 [==============================] - 9s 18ms/step - loss: 0.0084\n",
            "Epoch 14/15\n",
            "469/469 [==============================] - 8s 17ms/step - loss: 0.0070\n",
            "Epoch 15/15\n",
            "469/469 [==============================] - 9s 19ms/step - loss: 0.0107\n"
          ]
        },
        {
          "output_type": "execute_result",
          "data": {
            "text/plain": [
              "<keras.callbacks.History at 0x7f3ffc0762d0>"
            ]
          },
          "metadata": {},
          "execution_count": 26
        }
      ]
    },
    {
      "cell_type": "code",
      "source": [
        "#Веса нейронной сети\n",
        "W1 = model.get_weights()[0]\n",
        "b1 = model.get_weights()[1]\n",
        "W2 = model.get_weights()[2]\n",
        "b2 = model.get_weights()[3]\n",
        "W3 = model.get_weights()[4]\n",
        "b3 = model.get_weights()[5]\n",
        "print(\"W1:\", W1.shape)\n",
        "print(\"b1:\", b1.shape)\n",
        "print(\"W2:\", W2.shape)\n",
        "print(\"b2:\", b2.shape)\n",
        "print(\"W3:\", W3.shape)\n",
        "print(\"b3:\", b3.shape)\n",
        "print(\"b3=\", b3)"
      ],
      "metadata": {
        "colab": {
          "base_uri": "https://localhost:8080/"
        },
        "id": "MsTsutqB0V-4",
        "outputId": "89222a62-d25f-4c30-af3a-7f1bef3b0d0e"
      },
      "execution_count": 27,
      "outputs": [
        {
          "output_type": "stream",
          "name": "stdout",
          "text": [
            "W1: (784, 800)\n",
            "b1: (800,)\n",
            "W2: (800, 400)\n",
            "b2: (400,)\n",
            "W3: (400, 10)\n",
            "b3: (10,)\n",
            "b3= [-0.00822521 -0.08921032 -0.00955558 -0.02288207 -0.01578979 -0.01908686\n",
            " -0.05137256 -0.07012877  0.15969917  0.03699544]\n"
          ]
        }
      ]
    },
    {
      "cell_type": "code",
      "source": [
        "from PIL import Image\n",
        "import numpy as np\n",
        "# example of converting an image with the Keras API\n",
        "from keras.preprocessing.image import load_img\n",
        "from keras.preprocessing.image import img_to_array\n",
        "from keras.preprocessing.image import array_to_img\n",
        "\n",
        "img = load_img('/0.png', target_size=(28, 28), color_mode = 'grayscale') # скачал фотов отттенках серого\n",
        "img_array = img_to_array(img) # convert to numpy array\n",
        "img_ = img_array.reshape(1, 784)\n",
        "img_.shape"
      ],
      "metadata": {
        "colab": {
          "base_uri": "https://localhost:8080/"
        },
        "id": "D2CJc4Xi2boh",
        "outputId": "b61742d7-7b39-456a-cc70-1c1008d00afa"
      },
      "execution_count": 28,
      "outputs": [
        {
          "output_type": "execute_result",
          "data": {
            "text/plain": [
              "(1, 784)"
            ]
          },
          "metadata": {},
          "execution_count": 28
        }
      ]
    },
    {
      "cell_type": "code",
      "source": [
        "prediction = model.predict(img_)"
      ],
      "metadata": {
        "id": "iMZMbkeOpsT4"
      },
      "execution_count": 29,
      "outputs": []
    },
    {
      "cell_type": "code",
      "source": [
        "print(prediction)"
      ],
      "metadata": {
        "colab": {
          "base_uri": "https://localhost:8080/"
        },
        "id": "8yXKN9Evr1TM",
        "outputId": "1e43eb33-f518-4fcd-9869-473001f5528f"
      },
      "execution_count": 30,
      "outputs": [
        {
          "output_type": "stream",
          "name": "stdout",
          "text": [
            "[[1. 0. 0. 0. 0. 0. 0. 0. 0. 0.]]\n"
          ]
        }
      ]
    },
    {
      "cell_type": "code",
      "source": [
        "pred = np.argmax(prediction) # Получаем индекс самого большого элемента (это итоговая цифра, которую распознала сеть)\n",
        "print(pred)"
      ],
      "metadata": {
        "colab": {
          "base_uri": "https://localhost:8080/"
        },
        "id": "v9HiVQ_9r865",
        "outputId": "704b1baf-dc99-41a5-c50f-db490ca19e2a"
      },
      "execution_count": 31,
      "outputs": [
        {
          "output_type": "stream",
          "name": "stdout",
          "text": [
            "0\n"
          ]
        }
      ]
    }
  ]
}